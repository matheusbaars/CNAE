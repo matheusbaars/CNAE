{
 "cells": [
  {
   "cell_type": "code",
   "execution_count": 1,
   "id": "21cc6f54",
   "metadata": {},
   "outputs": [],
   "source": [
    "import pandas as pd\n",
    "import unidecode"
   ]
  },
  {
   "cell_type": "code",
   "execution_count": 2,
   "id": "fb041255",
   "metadata": {},
   "outputs": [],
   "source": [
    "df = pd.read_csv('C:\\\\Users\\\\Matheus\\\\Documents\\\\UiPath\\\\teste\\\\cnae.csv', sep=',')"
   ]
  },
  {
   "cell_type": "code",
   "execution_count": 3,
   "id": "dceb4262",
   "metadata": {},
   "outputs": [
    {
     "data": {
      "text/html": [
       "<div>\n",
       "<style scoped>\n",
       "    .dataframe tbody tr th:only-of-type {\n",
       "        vertical-align: middle;\n",
       "    }\n",
       "\n",
       "    .dataframe tbody tr th {\n",
       "        vertical-align: top;\n",
       "    }\n",
       "\n",
       "    .dataframe thead th {\n",
       "        text-align: right;\n",
       "    }\n",
       "</style>\n",
       "<table border=\"1\" class=\"dataframe\">\n",
       "  <thead>\n",
       "    <tr style=\"text-align: right;\">\n",
       "      <th></th>\n",
       "      <th>Codigo Secção</th>\n",
       "      <th>Secção</th>\n",
       "      <th>Código Divisão</th>\n",
       "      <th>Divisão</th>\n",
       "      <th>Código Grupo</th>\n",
       "      <th>Grupo</th>\n",
       "      <th>Código Classe</th>\n",
       "      <th>Classe</th>\n",
       "      <th>Código Subclasse</th>\n",
       "      <th>Subclasse</th>\n",
       "    </tr>\n",
       "  </thead>\n",
       "  <tbody>\n",
       "    <tr>\n",
       "      <th>0</th>\n",
       "      <td>A</td>\n",
       "      <td>AGRICULTURA, PECUÁRIA, PRODUÇÃO FLORESTAL, PES...</td>\n",
       "      <td>1</td>\n",
       "      <td>01 AGRICULTURA, PECUÁRIA E SERVIÇOS RELACIONADOS</td>\n",
       "      <td>1.1</td>\n",
       "      <td>01.1 Produção de lavouras temporárias</td>\n",
       "      <td>01.11-3 Cultivo de cereais</td>\n",
       "      <td>01.11-3 Cultivo de cereais</td>\n",
       "      <td>0111-3/01</td>\n",
       "      <td>0111-3/01 Cultivo de arroz</td>\n",
       "    </tr>\n",
       "    <tr>\n",
       "      <th>1</th>\n",
       "      <td>A</td>\n",
       "      <td>AGRICULTURA, PECUÁRIA, PRODUÇÃO FLORESTAL, PES...</td>\n",
       "      <td>1</td>\n",
       "      <td>01 AGRICULTURA, PECUÁRIA E SERVIÇOS RELACIONADOS</td>\n",
       "      <td>1.1</td>\n",
       "      <td>01.1 Produção de lavouras temporárias</td>\n",
       "      <td>01.12-1 Cultivo de algodão herbáceo e de outra...</td>\n",
       "      <td>01.12-1 Cultivo de algodão herbáceo e de outra...</td>\n",
       "      <td>0112-1/01</td>\n",
       "      <td>0112-1/01 Cultivo de algodão herbáceo</td>\n",
       "    </tr>\n",
       "  </tbody>\n",
       "</table>\n",
       "</div>"
      ],
      "text/plain": [
       "  Codigo Secção                                             Secção  \\\n",
       "0             A  AGRICULTURA, PECUÁRIA, PRODUÇÃO FLORESTAL, PES...   \n",
       "1             A  AGRICULTURA, PECUÁRIA, PRODUÇÃO FLORESTAL, PES...   \n",
       "\n",
       "   Código Divisão                                           Divisão  \\\n",
       "0               1  01 AGRICULTURA, PECUÁRIA E SERVIÇOS RELACIONADOS   \n",
       "1               1  01 AGRICULTURA, PECUÁRIA E SERVIÇOS RELACIONADOS   \n",
       "\n",
       "   Código Grupo                                  Grupo  \\\n",
       "0           1.1  01.1 Produção de lavouras temporárias   \n",
       "1           1.1  01.1 Produção de lavouras temporárias   \n",
       "\n",
       "                                       Código Classe  \\\n",
       "0                         01.11-3 Cultivo de cereais   \n",
       "1  01.12-1 Cultivo de algodão herbáceo e de outra...   \n",
       "\n",
       "                                              Classe Código Subclasse  \\\n",
       "0                         01.11-3 Cultivo de cereais        0111-3/01   \n",
       "1  01.12-1 Cultivo de algodão herbáceo e de outra...        0112-1/01   \n",
       "\n",
       "                               Subclasse  \n",
       "0             0111-3/01 Cultivo de arroz  \n",
       "1  0112-1/01 Cultivo de algodão herbáceo  "
      ]
     },
     "execution_count": 3,
     "metadata": {},
     "output_type": "execute_result"
    }
   ],
   "source": [
    "df.head(2)"
   ]
  },
  {
   "cell_type": "code",
   "execution_count": 4,
   "id": "1d3c8903",
   "metadata": {},
   "outputs": [],
   "source": [
    "descricao = ['Secção', 'Divisão', 'Grupo', 'Classe', 'Subclasse']"
   ]
  },
  {
   "cell_type": "code",
   "execution_count": 5,
   "id": "66608804",
   "metadata": {},
   "outputs": [],
   "source": [
    "# lowercase\n",
    "for column in df.columns:\n",
    "    if column != 'Codigo Secção':        \n",
    "        df[column] = df[column].astype(str).str.lower()"
   ]
  },
  {
   "cell_type": "code",
   "execution_count": 6,
   "id": "c72faf0f",
   "metadata": {},
   "outputs": [],
   "source": [
    "# Remove acentos\n",
    "for column in descricao:\n",
    "    #df[column] = df[column].apply(remove_accents)\n",
    "    df[column] = df[column].str.normalize('NFKD').str.encode('ascii', errors='ignore').str.decode('utf-8')"
   ]
  },
  {
   "cell_type": "code",
   "execution_count": 7,
   "id": "ccb49e30",
   "metadata": {},
   "outputs": [
    {
     "name": "stderr",
     "output_type": "stream",
     "text": [
      "C:\\Users\\Matheus\\AppData\\Local\\Temp/ipykernel_8236/2145587938.py:3: FutureWarning: The default value of regex will change from True to False in a future version.\n",
      "  df[column] = df[column].astype(str).str.replace('(\\d|[.]|-|\\/)', '')\n"
     ]
    }
   ],
   "source": [
    "# Deixa apenas o texto\n",
    "for column in descricao:\n",
    "    df[column] = df[column].astype(str).str.replace('(\\d|[.]|-|\\/)', '')"
   ]
  },
  {
   "cell_type": "code",
   "execution_count": 8,
   "id": "cea11593",
   "metadata": {},
   "outputs": [
    {
     "name": "stderr",
     "output_type": "stream",
     "text": [
      "C:\\Users\\Matheus\\AppData\\Local\\Temp/ipykernel_8236/740476976.py:3: FutureWarning: The default value of regex will change from True to False in a future version.\n",
      "  df['Código Classe'] = df['Código Classe'].astype(str).str.replace('([a-zA-Z])', '')\n"
     ]
    }
   ],
   "source": [
    "# Remove texto de código de classe\n",
    "df['Código Classe'] = df['Código Classe'].astype(str).str.normalize('NFKD').str.encode('ascii', errors='ignore').str.decode('utf-8')\n",
    "df['Código Classe'] = df['Código Classe'].astype(str).str.replace('([a-zA-Z])', '')\n",
    "\n"
   ]
  },
  {
   "cell_type": "code",
   "execution_count": 9,
   "id": "80346785",
   "metadata": {},
   "outputs": [
    {
     "name": "stderr",
     "output_type": "stream",
     "text": [
      "C:\\Users\\Matheus\\AppData\\Local\\Temp/ipykernel_8236/861991325.py:4: FutureWarning: The default value of regex will change from True to False in a future version.\n",
      "  df[column] = df[column].astype(str).str.replace('([.]|-|\\/)', '')\n"
     ]
    }
   ],
   "source": [
    "# Deixa apenas os números das colunas de códigos\n",
    "colunasCodigos = ['Código Divisão', 'Código Grupo', 'Código Classe', 'Código Subclasse']\n",
    "for column in colunasCodigos:\n",
    "    df[column] = df[column].astype(str).str.replace('([.]|-|\\/)', '')"
   ]
  },
  {
   "cell_type": "code",
   "execution_count": null,
   "id": "9c78f54e",
   "metadata": {},
   "outputs": [],
   "source": [
    "print(df.head(2))"
   ]
  },
  {
   "cell_type": "code",
   "execution_count": 10,
   "id": "4ce38b31",
   "metadata": {},
   "outputs": [],
   "source": [
    "# Gerar planilha Excel\n",
    "df.to_excel('cnae.xlsx', sheet_name='cnae', index=False)"
   ]
  },
  {
   "cell_type": "code",
   "execution_count": null,
   "id": "af93669a",
   "metadata": {},
   "outputs": [],
   "source": []
  }
 ],
 "metadata": {
  "kernelspec": {
   "display_name": "Python 3 (ipykernel)",
   "language": "python",
   "name": "python3"
  },
  "language_info": {
   "codemirror_mode": {
    "name": "ipython",
    "version": 3
   },
   "file_extension": ".py",
   "mimetype": "text/x-python",
   "name": "python",
   "nbconvert_exporter": "python",
   "pygments_lexer": "ipython3",
   "version": "3.9.7"
  }
 },
 "nbformat": 4,
 "nbformat_minor": 5
}
