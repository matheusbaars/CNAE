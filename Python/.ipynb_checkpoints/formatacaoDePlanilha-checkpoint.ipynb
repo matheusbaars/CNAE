{
 "cells": [
  {
   "cell_type": "code",
   "execution_count": 3,
   "id": "d23b5de7",
   "metadata": {},
   "outputs": [],
   "source": [
    "import pandas as pd"
   ]
  },
  {
   "cell_type": "code",
   "execution_count": 4,
   "id": "0e412628",
   "metadata": {},
   "outputs": [],
   "source": [
    "df = pd.read_csv('C:\\\\Users\\\\Matheus\\\\Documents\\\\UiPath\\\\teste\\\\cnae.csv', sep=',')"
   ]
  },
  {
   "cell_type": "code",
   "execution_count": 6,
   "id": "e6715b4b",
   "metadata": {},
   "outputs": [
    {
     "data": {
      "text/html": [
       "<div>\n",
       "<style scoped>\n",
       "    .dataframe tbody tr th:only-of-type {\n",
       "        vertical-align: middle;\n",
       "    }\n",
       "\n",
       "    .dataframe tbody tr th {\n",
       "        vertical-align: top;\n",
       "    }\n",
       "\n",
       "    .dataframe thead th {\n",
       "        text-align: right;\n",
       "    }\n",
       "</style>\n",
       "<table border=\"1\" class=\"dataframe\">\n",
       "  <thead>\n",
       "    <tr style=\"text-align: right;\">\n",
       "      <th></th>\n",
       "      <th>Codigo Secção</th>\n",
       "      <th>Secção</th>\n",
       "      <th>Código Divisão</th>\n",
       "      <th>Divisão</th>\n",
       "      <th>Código Grupo</th>\n",
       "      <th>Grupo</th>\n",
       "      <th>Código Classe</th>\n",
       "      <th>Classe</th>\n",
       "      <th>Código Subclasse</th>\n",
       "      <th>Subclasse</th>\n",
       "    </tr>\n",
       "  </thead>\n",
       "  <tbody>\n",
       "    <tr>\n",
       "      <th>0</th>\n",
       "      <td>A</td>\n",
       "      <td>AGRICULTURA, PECUÁRIA, PRODUÇÃO FLORESTAL, PES...</td>\n",
       "      <td>1</td>\n",
       "      <td>01 AGRICULTURA, PECUÁRIA E SERVIÇOS RELACIONADOS</td>\n",
       "      <td>1.1</td>\n",
       "      <td>01.1 Produção de lavouras temporárias</td>\n",
       "      <td>01.11-3 Cultivo de cereais</td>\n",
       "      <td>01.11-3 Cultivo de cereais</td>\n",
       "      <td>0111-3/01</td>\n",
       "      <td>0111-3/01 Cultivo de arroz</td>\n",
       "    </tr>\n",
       "    <tr>\n",
       "      <th>1</th>\n",
       "      <td>A</td>\n",
       "      <td>AGRICULTURA, PECUÁRIA, PRODUÇÃO FLORESTAL, PES...</td>\n",
       "      <td>1</td>\n",
       "      <td>01 AGRICULTURA, PECUÁRIA E SERVIÇOS RELACIONADOS</td>\n",
       "      <td>1.1</td>\n",
       "      <td>01.1 Produção de lavouras temporárias</td>\n",
       "      <td>01.12-1 Cultivo de algodão herbáceo e de outra...</td>\n",
       "      <td>01.12-1 Cultivo de algodão herbáceo e de outra...</td>\n",
       "      <td>0112-1/01</td>\n",
       "      <td>0112-1/01 Cultivo de algodão herbáceo</td>\n",
       "    </tr>\n",
       "  </tbody>\n",
       "</table>\n",
       "</div>"
      ],
      "text/plain": [
       "  Codigo Secção                                             Secção  \\\n",
       "0             A  AGRICULTURA, PECUÁRIA, PRODUÇÃO FLORESTAL, PES...   \n",
       "1             A  AGRICULTURA, PECUÁRIA, PRODUÇÃO FLORESTAL, PES...   \n",
       "\n",
       "   Código Divisão                                           Divisão  \\\n",
       "0               1  01 AGRICULTURA, PECUÁRIA E SERVIÇOS RELACIONADOS   \n",
       "1               1  01 AGRICULTURA, PECUÁRIA E SERVIÇOS RELACIONADOS   \n",
       "\n",
       "   Código Grupo                                  Grupo  \\\n",
       "0           1.1  01.1 Produção de lavouras temporárias   \n",
       "1           1.1  01.1 Produção de lavouras temporárias   \n",
       "\n",
       "                                       Código Classe  \\\n",
       "0                         01.11-3 Cultivo de cereais   \n",
       "1  01.12-1 Cultivo de algodão herbáceo e de outra...   \n",
       "\n",
       "                                              Classe Código Subclasse  \\\n",
       "0                         01.11-3 Cultivo de cereais        0111-3/01   \n",
       "1  01.12-1 Cultivo de algodão herbáceo e de outra...        0112-1/01   \n",
       "\n",
       "                               Subclasse  \n",
       "0             0111-3/01 Cultivo de arroz  \n",
       "1  0112-1/01 Cultivo de algodão herbáceo  "
      ]
     },
     "execution_count": 6,
     "metadata": {},
     "output_type": "execute_result"
    }
   ],
   "source": [
    "df.head(2)"
   ]
  },
  {
   "cell_type": "code",
   "execution_count": 11,
   "id": "6292a793",
   "metadata": {},
   "outputs": [
    {
     "data": {
      "text/plain": [
       "Index(['Codigo Secção', 'Secção', 'Código Divisão', 'Divisão', 'Código Grupo',\n",
       "       'Grupo', 'Código Classe', 'Classe', 'Código Subclasse', 'Subclasse'],\n",
       "      dtype='object')"
      ]
     },
     "execution_count": 11,
     "metadata": {},
     "output_type": "execute_result"
    }
   ],
   "source": [
    "df.columns"
   ]
  },
  {
   "cell_type": "code",
   "execution_count": 15,
   "id": "b873a411",
   "metadata": {},
   "outputs": [
    {
     "name": "stdout",
     "output_type": "stream",
     "text": [
      "<class 'pandas.core.frame.DataFrame'>\n",
      "RangeIndex: 310 entries, 0 to 309\n",
      "Data columns (total 10 columns):\n",
      " #   Column            Non-Null Count  Dtype  \n",
      "---  ------            --------------  -----  \n",
      " 0   Codigo Secção     310 non-null    object \n",
      " 1   Secção            310 non-null    object \n",
      " 2   Código Divisão    310 non-null    int64  \n",
      " 3   Divisão           310 non-null    object \n",
      " 4   Código Grupo      310 non-null    float64\n",
      " 5   Grupo             310 non-null    object \n",
      " 6   Código Classe     310 non-null    object \n",
      " 7   Classe            310 non-null    object \n",
      " 8   Código Subclasse  310 non-null    object \n",
      " 9   Subclasse         310 non-null    object \n",
      "dtypes: float64(1), int64(1), object(8)\n",
      "memory usage: 24.3+ KB\n"
     ]
    }
   ],
   "source": [
    "df."
   ]
  },
  {
   "cell_type": "code",
   "execution_count": null,
   "id": "82fa52f6",
   "metadata": {},
   "outputs": [],
   "source": []
  }
 ],
 "metadata": {
  "kernelspec": {
   "display_name": "Python 3 (ipykernel)",
   "language": "python",
   "name": "python3"
  },
  "language_info": {
   "codemirror_mode": {
    "name": "ipython",
    "version": 3
   },
   "file_extension": ".py",
   "mimetype": "text/x-python",
   "name": "python",
   "nbconvert_exporter": "python",
   "pygments_lexer": "ipython3",
   "version": "3.9.7"
  }
 },
 "nbformat": 4,
 "nbformat_minor": 5
}
